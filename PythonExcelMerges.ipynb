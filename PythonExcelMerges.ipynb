{
 "cells": [
  {
   "attachments": {},
   "cell_type": "markdown",
   "metadata": {},
   "source": [
    "Given an input folder containing xlsx files, the names of common sheets in those files, and the name of an output file, this function will merge those files and give you the output:"
   ]
  },
  {
   "cell_type": "code",
   "execution_count": null,
   "metadata": {},
   "outputs": [],
   "source": [
    "###Given an input folder containing xlsx files, the names of common sheets in those files, and the name of an output file, this function will merge those files and give you the output\n",
    "def scriptMerger(folder,sheetList,outputName):\n",
    "    df=[]\n",
    "    for file in os.listdir(folder):\n",
    "        if file.endswith('.xlsx'):\n",
    "            print('Loading file {0}...'.format(file))\n",
    "            df.append(pd.read_excel(os.path.join(data_file_folder,file),sheet_name=sheetList))\n",
    "\n",
    "    with open('GFG', 'w') as f:\n",
    "      \n",
    "        # using csv.writer method from CSV package\n",
    "        write = csv.writer(f)\n",
    "      \n",
    "        write.writerow(sheetList)\n",
    "        write.writerows(df)\n",
    "sheetList=['vHost','vInfo','vMultiPath','vLicense','vDatastore','vDisk']\n",
    "data_file_folder='C:\\\\Users\\\\AYCL\\\\RVTools'\n",
    "outputName='practiceOutput.csv'\n",
    "scriptMerger(data_file_folder,sheetList,outputName)"
   ]
  },
  {
   "attachments": {},
   "cell_type": "markdown",
   "metadata": {},
   "source": [
    "Write dataframes to excel file:"
   ]
  },
  {
   "cell_type": "code",
   "execution_count": null,
   "metadata": {},
   "outputs": [],
   "source": [
    "with pd.ExcelWriter('C:\\\\Users\\\\AYCL\\\\PGE\\\\Full Stack Program PG&E WWT - 02 PG&E ETL\\\\Output\\\\RVToolsUpdate.xlsx') as writer:  \n",
    "    df_m.to_excel(writer, sheet_name='vHost')\n",
    "    df_m1.to_excel(writer, sheet_name='vInfo')\n"
   ]
  },
  {
   "attachments": {},
   "cell_type": "markdown",
   "metadata": {},
   "source": [
    "Creating summary table:"
   ]
  },
  {
   "cell_type": "code",
   "execution_count": null,
   "metadata": {},
   "outputs": [],
   "source": [
    "#create a dataframe that has one column for number of sheets per file, then number of columns per sheetm then records in each sheet\n",
    "dfSheetPerFile=pd.DataFrame(columns= [\"File Name\",\"Number of Sheets\",\"sheets\"])\n",
    "dfSheetPerFile[\"File Name\"]=dfFilenames\n",
    "dfNames=[]\n",
    "dfNames=[]\n",
    "for i in range(len(dfNamesList)):\n",
    "    dfNames.append(len(dfNamesList[i]))\n",
    "dfSheetPerFile['Number of Sheets']=dfNames\n",
    "dfSheets=[]\n",
    "for i in range(len(dfNamesList)):\n",
    "    dfSheets.append(list(dfNamesList[i].keys()))\n",
    "dfSheetPerFile[\"sheets\"]=dfSheets\n",
    "dfSheetPerFile\n"
   ]
  }
 ],
 "metadata": {
  "language_info": {
   "name": "python"
  },
  "orig_nbformat": 4
 },
 "nbformat": 4,
 "nbformat_minor": 2
}
